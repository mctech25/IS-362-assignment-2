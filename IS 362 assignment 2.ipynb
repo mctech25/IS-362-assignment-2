{
 "cells": [
  {
   "cell_type": "markdown",
   "id": "f70cc472",
   "metadata": {},
   "source": [
    "SET COMPREHENSIONS"
   ]
  },
  {
   "cell_type": "markdown",
   "id": "07fc0c07",
   "metadata": {},
   "source": [
    "Set comprehensions in jupyter notebook (python) are concise and capable ways to create a new set based on existing iterable, such as a tuple, list, and or run. Set comprehensions provide us with a short and concise way to create new sequences."
   ]
  },
  {
   "cell_type": "code",
   "execution_count": 1,
   "id": "7567d359",
   "metadata": {},
   "outputs": [
    {
     "name": "stdout",
     "output_type": "stream",
     "text": [
      "New Set using set comprhensions: {2, 4, 6}\n"
     ]
    }
   ],
   "source": [
    "# set comprehension\n",
    "# for creating new set \n",
    "Set = [1,2,3,4,5,6,7]\n",
    "Set_comp = {var for var in Set if var % 2 == 0}\n",
    "print(\"New Set using set comprhensions:\", Set_comp)"
   ]
  },
  {
   "cell_type": "markdown",
   "id": "9e81858a",
   "metadata": {},
   "source": [
    "ZIP() function"
   ]
  },
  {
   "cell_type": "markdown",
   "id": "c9eeced8",
   "metadata": {},
   "source": [
    "The zip() function returns a zip object contains a paired iterator of tuples. In this pair first element from two tuples and so on."
   ]
  },
  {
   "cell_type": "code",
   "execution_count": 2,
   "id": "dfd2367b",
   "metadata": {},
   "outputs": [
    {
     "name": "stdout",
     "output_type": "stream",
     "text": [
      "(('Timothy', 'Paul'), ('Matthew', 'David'), ('Deborah', 'Joseph'))\n"
     ]
    }
   ],
   "source": [
    "a = (\"Timothy\",\"Matthew\", \"Deborah\")\n",
    "b = (\"Paul\",\"David\",\"Joseph\")\n",
    "x = zip(a,b)\n",
    "# convert zip object into tuple so that it can be iterable \n",
    "print(tuple(x))"
   ]
  },
  {
   "cell_type": "code",
   "execution_count": null,
   "id": "f1e5c1c6",
   "metadata": {},
   "outputs": [],
   "source": []
  }
 ],
 "metadata": {
  "kernelspec": {
   "display_name": "Python 3",
   "language": "python",
   "name": "python3"
  },
  "language_info": {
   "codemirror_mode": {
    "name": "ipython",
    "version": 3
   },
   "file_extension": ".py",
   "mimetype": "text/x-python",
   "name": "python",
   "nbconvert_exporter": "python",
   "pygments_lexer": "ipython3",
   "version": "3.8.10"
  }
 },
 "nbformat": 4,
 "nbformat_minor": 5
}
